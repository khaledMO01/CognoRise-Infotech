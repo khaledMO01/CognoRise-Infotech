{
 "cells": [
  {
   "cell_type": "code",
   "execution_count": 1,
   "metadata": {},
   "outputs": [],
   "source": [
    "import pandas as pd\n",
    "\n",
    "df = pd.read_csv('./cinemaTicket_Ref.csv')"
   ]
  },
  {
   "cell_type": "code",
   "execution_count": 2,
   "metadata": {},
   "outputs": [
    {
     "name": "stdout",
     "output_type": "stream",
     "text": [
      "   film_code  cinema_code  total_sales  tickets_sold  tickets_out  show_time  \\\n",
      "0       1492          304      3900000            26            0          4   \n",
      "1       1492          352      3360000            42            0          5   \n",
      "2       1492          489      2560000            32            0          4   \n",
      "3       1492          429      1200000            12            0          1   \n",
      "4       1492          524      1200000            15            0          3   \n",
      "\n",
      "   occu_perc  ticket_price  ticket_use    capacity        date  month  \\\n",
      "0       4.26      150000.0          26  610.328638  2018-05-05      5   \n",
      "1       8.08       80000.0          42  519.801980  2018-05-05      5   \n",
      "2      20.00       80000.0          32  160.000000  2018-05-05      5   \n",
      "3      11.01      100000.0          12  108.991826  2018-05-05      5   \n",
      "4      16.67       80000.0          15   89.982004  2018-05-05      5   \n",
      "\n",
      "   quarter  day  \n",
      "0        2    5  \n",
      "1        2    5  \n",
      "2        2    5  \n",
      "3        2    5  \n",
      "4        2    5  \n",
      "<class 'pandas.core.frame.DataFrame'>\n",
      "RangeIndex: 142524 entries, 0 to 142523\n",
      "Data columns (total 14 columns):\n",
      " #   Column        Non-Null Count   Dtype  \n",
      "---  ------        --------------   -----  \n",
      " 0   film_code     142524 non-null  int64  \n",
      " 1   cinema_code   142524 non-null  int64  \n",
      " 2   total_sales   142524 non-null  int64  \n",
      " 3   tickets_sold  142524 non-null  int64  \n",
      " 4   tickets_out   142524 non-null  int64  \n",
      " 5   show_time     142524 non-null  int64  \n",
      " 6   occu_perc     142399 non-null  float64\n",
      " 7   ticket_price  142524 non-null  float64\n",
      " 8   ticket_use    142524 non-null  int64  \n",
      " 9   capacity      142399 non-null  float64\n",
      " 10  date          142524 non-null  object \n",
      " 11  month         142524 non-null  int64  \n",
      " 12  quarter       142524 non-null  int64  \n",
      " 13  day           142524 non-null  int64  \n",
      "dtypes: float64(3), int64(10), object(1)\n",
      "memory usage: 15.2+ MB\n",
      "None\n",
      "           film_code    cinema_code   total_sales   tickets_sold  \\\n",
      "count  142524.000000  142524.000000  1.425240e+05  142524.000000   \n",
      "mean     1518.985111     320.378427  1.234728e+07     140.137570   \n",
      "std        36.184450     159.701229  3.065486e+07     279.758733   \n",
      "min      1471.000000      32.000000  2.000000e+04       1.000000   \n",
      "25%      1485.000000     181.000000  1.260000e+06      18.000000   \n",
      "50%      1498.000000     324.000000  3.720000e+06      50.000000   \n",
      "75%      1556.000000     474.000000  1.110000e+07     143.000000   \n",
      "max      1589.000000     637.000000  1.262820e+09    8499.000000   \n",
      "\n",
      "         tickets_out      show_time      occu_perc   ticket_price  \\\n",
      "count  142524.000000  142524.000000  142399.000000  142524.000000   \n",
      "mean        0.237413       3.932103      19.965986   81234.599886   \n",
      "std         2.923206       3.056276      22.653445   33236.599278   \n",
      "min         0.000000       1.000000       0.000000     483.870968   \n",
      "25%         0.000000       2.000000       3.750000   60000.000000   \n",
      "50%         0.000000       3.000000      10.350000   79454.235185   \n",
      "75%         0.000000       5.000000      28.210000  100000.000000   \n",
      "max       311.000000      60.000000     147.500000  700000.000000   \n",
      "\n",
      "          ticket_use       capacity          month        quarter  \\\n",
      "count  142524.000000  142399.000000  142524.000000  142524.000000   \n",
      "mean      139.900157     854.723605       6.776852       2.634721   \n",
      "std       279.564935     953.118103       2.195843       0.809692   \n",
      "min      -219.000000      -2.000000       2.000000       1.000000   \n",
      "25%        18.000000     276.994486       5.000000       2.000000   \n",
      "50%        50.000000     525.714286       7.000000       3.000000   \n",
      "75%       143.000000    1038.961039       9.000000       3.000000   \n",
      "max      8499.000000    9692.097160      11.000000       4.000000   \n",
      "\n",
      "                 day  \n",
      "count  142524.000000  \n",
      "mean       16.112585  \n",
      "std         8.949471  \n",
      "min         1.000000  \n",
      "25%         8.000000  \n",
      "50%        16.000000  \n",
      "75%        24.000000  \n",
      "max        31.000000  \n"
     ]
    }
   ],
   "source": [
    "print(df.head())\n",
    "print(df.info())\n",
    "print(df.describe())"
   ]
  },
  {
   "cell_type": "code",
   "execution_count": 3,
   "metadata": {},
   "outputs": [
    {
     "data": {
      "text/plain": [
       "film_code         0\n",
       "cinema_code       0\n",
       "total_sales       0\n",
       "tickets_sold      0\n",
       "tickets_out       0\n",
       "show_time         0\n",
       "occu_perc       125\n",
       "ticket_price      0\n",
       "ticket_use        0\n",
       "capacity        125\n",
       "date              0\n",
       "month             0\n",
       "quarter           0\n",
       "day               0\n",
       "dtype: int64"
      ]
     },
     "execution_count": 3,
     "metadata": {},
     "output_type": "execute_result"
    }
   ],
   "source": [
    "df.isnull().sum()   # check for missing values"
   ]
  },
  {
   "cell_type": "code",
   "execution_count": 4,
   "metadata": {},
   "outputs": [],
   "source": [
    "df[\"occu_perc\"]=df[\"occu_perc\"].fillna(df[\"occu_perc\"].mean())  # fill missing values with mean\n",
    "df[\"capacity\"]=df[\"capacity\"].fillna(df[\"capacity\"].mean())  # fill missing values with mean"
   ]
  },
  {
   "cell_type": "code",
   "execution_count": 6,
   "metadata": {},
   "outputs": [],
   "source": [
    "df['date'] = pd.to_datetime(df['date'])"
   ]
  },
  {
   "cell_type": "code",
   "execution_count": 7,
   "metadata": {},
   "outputs": [
    {
     "data": {
      "text/plain": [
       "0        2018-05-05\n",
       "1        2018-05-05\n",
       "2        2018-05-05\n",
       "3        2018-05-05\n",
       "4        2018-05-05\n",
       "            ...    \n",
       "142519   2018-11-04\n",
       "142520   2018-11-04\n",
       "142521   2018-11-04\n",
       "142522   2018-11-04\n",
       "142523   2018-11-04\n",
       "Name: date, Length: 142524, dtype: datetime64[ns]"
      ]
     },
     "execution_count": 7,
     "metadata": {},
     "output_type": "execute_result"
    }
   ],
   "source": [
    "df[\"date\"]"
   ]
  },
  {
   "cell_type": "code",
   "execution_count": 10,
   "metadata": {},
   "outputs": [],
   "source": [
    "df['revenue_per_ticket'] = df['total_sales'] / df['tickets_sold']"
   ]
  },
  {
   "cell_type": "code",
   "execution_count": 11,
   "metadata": {},
   "outputs": [
    {
     "data": {
      "image/png": "[encoded data removed]",
      "text/plain": [
       "<Figure size 640x480 with 1 Axes>"
      ]
     },
     "metadata": {},
     "output_type": "display_data"
    }
   ],
   "source": [
    "import matplotlib.pyplot as plt\n",
    "\n",
    "monthly_sales = df.groupby('month')['total_sales'].sum()\n",
    "monthly_sales.plot(kind='line')\n",
    "plt.title('Monthly Total Sales')\n",
    "plt.xlabel('Month')\n",
    "plt.ylabel('Total Sales')\n",
    "plt.show()"
   ]
  },
  {
   "cell_type": "code",
   "execution_count": null,
   "metadata": {},
   "outputs": [],
   "source": [
    "from sklearn.cluster import KMeans\n",
    "from sklearn.preprocessing import StandardScaler\n",
    "\n",
    "features = df[['location_column', 'sales_column']]\n",
    "scaler = StandardScaler()\n",
    "scaled_features = scaler.fit_transform(features)\n",
    "\n",
    "kmeans = KMeans(n_clusters=3)  # Adjust clusters based on the analysis\n",
    "df['cinema_code'] = kmeans.fit_predict(scaled_features)"
   ]
  },
  {
   "cell_type": "code",
   "execution_count": 12,
   "metadata": {},
   "outputs": [],
   "source": [
    "from sklearn.cluster import KMeans\n",
    "from sklearn.preprocessing import StandardScaler\n",
    "\n",
    "features = df[['total_sales', 'occu_perc', 'ticket_price']].fillna(0)\n",
    "scaler = StandardScaler()\n",
    "scaled_features = scaler.fit_transform(features)\n",
    "\n",
    "kmeans = KMeans(n_clusters=3)\n",
    "df['cinema_cluster'] = kmeans.fit_predict(scaled_features)"
   ]
  },
  {
   "cell_type": "code",
   "execution_count": 13,
   "metadata": {},
   "outputs": [
    {
     "name": "stdout",
     "output_type": "stream",
     "text": [
      "film_code\n",
      "1554    4129543\n",
      "1484    1789357\n",
      "1493    1719867\n",
      "1482    1628821\n",
      "1483    1623569\n",
      "Name: tickets_sold, dtype: int64\n"
     ]
    }
   ],
   "source": [
    "popular_movies = df.groupby('film_code')['tickets_sold'].sum().sort_values(ascending=False)\n",
    "print(popular_movies.head())"
   ]
  },
  {
   "cell_type": "code",
   "execution_count": 16,
   "metadata": {},
   "outputs": [],
   "source": [
    "from sklearn.model_selection import train_test_split\n",
    "from sklearn.ensemble import RandomForestRegressor\n",
    "from sklearn.metrics import mean_squared_error\n",
    "\n",
    "X = df[['ticket_price', 'occu_perc', 'capacity']].fillna(0)\n",
    "y = df['total_sales']\n",
    "\n",
    "X_train, X_test, y_train, y_test = train_test_split(X, y, test_size=0.2, random_state=42)\n"
   ]
  },
  {
   "cell_type": "code",
   "execution_count": 17,
   "metadata": {},
   "outputs": [],
   "source": [
    "model = RandomForestRegressor()\n",
    "model.fit(X_train, y_train)\n",
    "predictions = model.predict(X_test)"
   ]
  },
  {
   "cell_type": "code",
   "execution_count": 19,
   "metadata": {},
   "outputs": [
    {
     "name": "stdout",
     "output_type": "stream",
     "text": [
      "RMSE: 1711021.7365985273\n"
     ]
    }
   ],
   "source": [
    "rmse = mean_squared_error(y_test, predictions, squared=False)\n",
    "print(f\"RMSE: {rmse}\")"
   ]
  }
 ],
 "metadata": {
  "kernelspec": {
   "display_name": "Python 3",
   "language": "python",
   "name": "python3"
  },
  "language_info": {
   "codemirror_mode": {
    "name": "ipython",
    "version": 3
   },
   "file_extension": ".py",
   "mimetype": "text/x-python",
   "name": "python",
   "nbconvert_exporter": "python",
   "pygments_lexer": "ipython3",
   "version": "3.10.7"
  }
 },
 "nbformat": 4,
 "nbformat_minor": 2
}
